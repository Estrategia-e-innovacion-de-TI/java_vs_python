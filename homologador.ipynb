{
 "cells": [
  {
   "cell_type": "code",
   "execution_count": 13,
   "metadata": {},
   "outputs": [],
   "source": [
    "import pandas as pd\n",
    "import openpyxl\n",
    "import json\n",
    "import traceback"
   ]
  },
  {
   "cell_type": "code",
   "execution_count": 14,
   "metadata": {},
   "outputs": [],
   "source": [
    "class ValidadorCampos:\n",
    "    \"\"\"\n",
    "    Clase para validar campos según reglas extraídas de un archivo Excel.\n",
    "    \n",
    "    Contiene reglas de validación para cada campo incluyendo:\n",
    "    - Nombre del campo (bb)\n",
    "    - Código del campo (Campo destino)\n",
    "    - Longitud\n",
    "    - Tipo (CARACTER, NUMERICO)\n",
    "    \"\"\"\n",
    "    \n",
    "    def __init__(self, ruta_excel, ruta_json):\n",
    "        \"\"\"\n",
    "        Inicializa el validador cargando las reglas desde un archivo Excel.\n",
    "        \n",
    "        Args:\n",
    "            ruta_excel: Ruta al archivo Excel que contiene las reglas\n",
    "        \"\"\"\n",
    "        self.reglas = {}\n",
    "        self.ruta_excel = ruta_excel\n",
    "        self.ruta_json = ruta_json\n",
    "        self.cargar_reglas_desde_excel()\n",
    "        self.leer_json()\n",
    "    \n",
    "    def cargar_reglas_desde_excel(self):\n",
    "        try:\n",
    "            df = pd.read_excel(self.ruta_excel)\n",
    "            df.columns = df.columns.str.upper()\n",
    "            \n",
    "            # Convertir a mayúsculas solo en columnas de texto (CORRECCIÓN)\n",
    "            for columna in df.select_dtypes(include='object').columns:\n",
    "                df[columna] = df[columna].str.upper()\n",
    "            \n",
    "            # Verificar que las columnas requeridas estén presentes\n",
    "            columnas_requeridas = [\"BB\", \"CAMPO DESTINO\", \"TIPO\", \"LONGITUD\"]\n",
    "            for columna in columnas_requeridas:\n",
    "                if columna not in df.columns:\n",
    "                    raise ValueError(f\"La columna '{columna}' no existe en el archivo Excel\")\n",
    "            \n",
    "            # Procesar cada fila y extraer las reglas\n",
    "            for _, fila in df.iterrows():\n",
    "                nombre_campo = fila[\"BB\"]\n",
    "                codigo = fila[\"CAMPO DESTINO\"]\n",
    "                tipo = fila[\"TIPO\"]\n",
    "                longitud = float(fila[\"LONGITUD\"])\n",
    "                \n",
    "                # Almacenar las reglas en el diccionario\n",
    "                self.reglas[nombre_campo] = {\n",
    "                    'codigo': codigo,\n",
    "                    'tipo': tipo,\n",
    "                    'longitud': longitud\n",
    "                    \n",
    "                }\n",
    "            \n",
    "            print(f\"Se cargaron {len(self.reglas)} reglas desde el archivo Excel\")\n",
    "\n",
    "            # Imprimir las reglas cargadas\n",
    "            #print(\"Reglas cargadas:\")\n",
    "            #for nombre_campo, regla in self.reglas.items():\n",
    "            #    print(f\"{nombre_campo}: {regla}\")\n",
    "\n",
    "        except Exception as e:\n",
    "            print(f\"Error al cargar las reglas desde Excel: {e}\")\n",
    "            raise\n",
    "\n",
    "\n",
    "\n",
    "    #def leer_json(self):\n",
    "    #    with open(self.ruta_json, 'r', encoding='utf-8') as f:\n",
    "    #        datos = json.load(f)\n",
    "#\n",
    "    #    # Acceder a \"transactions\" y obtener los \"fields\"\n",
    "    #    transactions = datos.get(\"body\", {}).get(\"transactions\", [])\n",
    "#\n",
    "    #    lista_fields = [t[\"fields\"] for t in transactions if \"fields\" in t]\n",
    "#\n",
    "    #    print(lista_fields[0:5])\n",
    "    #    #return lista_fields  # Retorna una lista con todos los \"fields\"\n",
    "\n",
    "\n",
    "\n",
    "    def leer_json(self):\n",
    "        try:\n",
    "            with open(self.ruta_json, 'r', encoding='utf-8') as f:\n",
    "                datos = json.load(f)\n",
    "                # Acceder a \"transactions\" y obtener los \"fields\"\n",
    "                transactions = datos.get(\"body\", {}).get(\"transactions\", [])\n",
    "                \n",
    "                lista_fields = [t[\"fields\"] for t in transactions if \"fields\" in t]\n",
    "                print(lista_fields[0:5])\n",
    "                \n",
    "                lista_fields_transformados = []\n",
    "                \n",
    "                for transaccion in transactions:\n",
    "                    if \"fields\" in transaccion:\n",
    "                        nuevo_fields = {}\n",
    "                        \n",
    "                        for campo, valor in transaccion[\"fields\"].items():\n",
    "                            # Reemplazar el nombre del campo por su código si existe en las reglas\n",
    "                            codigo = self.reglas.get(campo, {}).get(\"codigo\", campo)\n",
    "                            nuevo_fields[codigo] = valor\n",
    "                \n",
    "                lista_fields_transformados.append(nuevo_fields)\n",
    "            #return lista_fields_transformados  # Retorna los \"fields\" con nombres cambiados\n",
    "            print(lista_fields_transformados[0:5])\n",
    "    \n",
    "        except Exception as e:\n",
    "            print(f\"Error al leer o transformar el JSON:\\n{traceback.format_exc()}\")"
   ]
  },
  {
   "cell_type": "code",
   "execution_count": 15,
   "metadata": {},
   "outputs": [
    {
     "name": "stdout",
     "output_type": "stream",
     "text": [
      "Se cargaron 28 reglas desde el archivo Excel\n",
      "[{'CODIGO TRX': 'AF265', 'DESCRIPCION TRANSACCION': 'DEP EQ ELECTRICOS', 'TIPO CONTABILIDAD': '7115', 'FECHA CONTABLE': '2025-02-19', 'VALOR DB 1': '1000000.02', 'VALOR DB 2': 'N/A', 'VALOR DB 3': 'N/A', 'ID TERCERO DB1': '70', 'ID TERCERO DB2': '71', 'ID TERCERO DB3': 'N/A', 'NOMBRE TERCERO DB1': 'abc', 'NOMBRE TERCERO DB2': 'N/A', 'NOMBRE TERCERO DB3': 'N/A', 'CC DB 1': '123', 'CC DB 2': 'N/A', 'CC DB 3': 'N/A', 'VALOR CR 1': '1000000.02', 'VALOR CR 2': 'N/A', 'VALOR CR 3': 'N/A', 'ID TERCERO CR 1': '80', 'ID TERCERO CR 2': '81', 'ID TERCERO CR 3': 'N/A', 'NOMBRE TERCERO CR1': 'abc', 'NOMBRE TERCERO CR2': 'N/A', 'NOMBRE TERCERO CR3': 'N/A', 'CC CR 1': '123', 'CC CR 2': 'N/A', 'CC CR 3': 'N/A', 'COMENTARIO': 'prueba', 'TIPO DE DOCUMENTO': 'T90', 'NUMERO DE DOCUMENTO': '123', 'DOCUMENTO BASE': 'as', 'NUMERO DOCUMENTO BASE': '123', 'CUENTA': '55604', 'CAMPO_NUMERICO_1': '11420', 'CAMPO_ALFANUMERICO_2': '64507531AA', 'CAMPO_ALFANUMERICO_3': '19845', 'CAMPO_ALFANUMERICO_4': '2025-03-02', 'CAMPO_ALFANUMERICO_5': '2025-04-20', 'CAMPO_ALFANUMERICO_6': '2025-04-28', 'CAMPO_ALFANUMERICO_7': '6768', 'CAMPO_ALFANUMERICO_8': '86', 'CAMPO_ALFANUMERICO_9': '144', 'CAMPO_ALFANUMERICO_10': '30', 'CAMPO_ALFANUMERICO_11': 'Caja CCC', 'CAMPO_ALFANUMERICO_12': 'AC', 'CAMPO_ALFANUMERICO_13': 'FE', 'CAMPO_ALFANUMERICO_14': '55', 'CAMPO_ALFANUMERICO_15': '3930'}, {'CODIGO TRX': 'AF265', 'DESCRIPCION TRANSACCION': 'DEP EQ ELECTRICOS', 'TIPO CONTABILIDAD': '7115', 'FECHA CONTABLE': '2025-02-19', 'VALOR DB 1': '1000000.02', 'VALOR DB 2': 'N/A', 'VALOR DB 3': 'N/A', 'ID TERCERO DB1': '70', 'ID TERCERO DB2': '71', 'ID TERCERO DB3': 'N/A', 'NOMBRE TERCERO DB1': 'abc', 'NOMBRE TERCERO DB2': 'N/A', 'NOMBRE TERCERO DB3': 'N/A', 'CC DB 1': '123', 'CC DB 2': 'N/A', 'CC DB 3': 'N/A', 'VALOR CR 1': '1000000.02', 'VALOR CR 2': 'N/A', 'VALOR CR 3': 'N/A', 'ID TERCERO CR 1': '80', 'ID TERCERO CR 2': '81', 'ID TERCERO CR 3': 'N/A', 'NOMBRE TERCERO CR1': 'abc', 'NOMBRE TERCERO CR2': 'N/A', 'NOMBRE TERCERO CR3': 'N/A', 'CC CR 1': '123', 'CC CR 2': 'N/A', 'CC CR 3': 'N/A', 'COMENTARIO': 'prueba', 'TIPO DE DOCUMENTO': 'T90', 'NUMERO DE DOCUMENTO': '123', 'DOCUMENTO BASE': 'as', 'NUMERO DOCUMENTO BASE': '123', 'CUENTA': '23856', 'CAMPO_NUMERICO_1': '52638', 'CAMPO_ALFANUMERICO_2': '85247524AA', 'CAMPO_ALFANUMERICO_3': '29480', 'CAMPO_ALFANUMERICO_4': '2025-02-21', 'CAMPO_ALFANUMERICO_5': '2025-03-29', 'CAMPO_ALFANUMERICO_6': '2025-05-05', 'CAMPO_ALFANUMERICO_7': '3150', 'CAMPO_ALFANUMERICO_8': '26', 'CAMPO_ALFANUMERICO_9': '202', 'CAMPO_ALFANUMERICO_10': '88', 'CAMPO_ALFANUMERICO_11': 'Caja AAA', 'CAMPO_ALFANUMERICO_12': 'BC', 'CAMPO_ALFANUMERICO_13': 'HE', 'CAMPO_ALFANUMERICO_14': '92', 'CAMPO_ALFANUMERICO_15': '5459'}, {'CODIGO TRX': 'AF265', 'DESCRIPCION TRANSACCION': 'DEP EQ ELECTRICOS', 'TIPO CONTABILIDAD': '7115', 'FECHA CONTABLE': '2025-02-19', 'VALOR DB 1': '1000000.02', 'VALOR DB 2': 'N/A', 'VALOR DB 3': 'N/A', 'ID TERCERO DB1': '70', 'ID TERCERO DB2': '71', 'ID TERCERO DB3': 'N/A', 'NOMBRE TERCERO DB1': 'abc', 'NOMBRE TERCERO DB2': 'N/A', 'NOMBRE TERCERO DB3': 'N/A', 'CC DB 1': '123', 'CC DB 2': 'N/A', 'CC DB 3': 'N/A', 'VALOR CR 1': '1000000.02', 'VALOR CR 2': 'N/A', 'VALOR CR 3': 'N/A', 'ID TERCERO CR 1': '80', 'ID TERCERO CR 2': '81', 'ID TERCERO CR 3': 'N/A', 'NOMBRE TERCERO CR1': 'abc', 'NOMBRE TERCERO CR2': 'N/A', 'NOMBRE TERCERO CR3': 'N/A', 'CC CR 1': '123', 'CC CR 2': 'N/A', 'CC CR 3': 'N/A', 'COMENTARIO': 'prueba', 'TIPO DE DOCUMENTO': 'T90', 'NUMERO DE DOCUMENTO': '123', 'DOCUMENTO BASE': 'as', 'NUMERO DOCUMENTO BASE': '123', 'CUENTA': '59644', 'CAMPO_NUMERICO_1': '15271', 'CAMPO_ALFANUMERICO_2': '81533799CC', 'CAMPO_ALFANUMERICO_3': '81770', 'CAMPO_ALFANUMERICO_4': '2025-03-16', 'CAMPO_ALFANUMERICO_5': '2025-04-21', 'CAMPO_ALFANUMERICO_6': '2025-05-15', 'CAMPO_ALFANUMERICO_7': '1377', 'CAMPO_ALFANUMERICO_8': '36', 'CAMPO_ALFANUMERICO_9': '153', 'CAMPO_ALFANUMERICO_10': '19', 'CAMPO_ALFANUMERICO_11': 'Caja CCC', 'CAMPO_ALFANUMERICO_12': 'CC', 'CAMPO_ALFANUMERICO_13': 'HE', 'CAMPO_ALFANUMERICO_14': '67', 'CAMPO_ALFANUMERICO_15': '5753'}, {'CODIGO TRX': 'AF265', 'DESCRIPCION TRANSACCION': 'DEP EQ ELECTRICOS', 'TIPO CONTABILIDAD': '7115', 'FECHA CONTABLE': '2025-02-19', 'VALOR DB 1': '1000000.02', 'VALOR DB 2': 'N/A', 'VALOR DB 3': 'N/A', 'ID TERCERO DB1': '70', 'ID TERCERO DB2': '71', 'ID TERCERO DB3': 'N/A', 'NOMBRE TERCERO DB1': 'abc', 'NOMBRE TERCERO DB2': 'N/A', 'NOMBRE TERCERO DB3': 'N/A', 'CC DB 1': '123', 'CC DB 2': 'N/A', 'CC DB 3': 'N/A', 'VALOR CR 1': '1000000.02', 'VALOR CR 2': 'N/A', 'VALOR CR 3': 'N/A', 'ID TERCERO CR 1': '80', 'ID TERCERO CR 2': '81', 'ID TERCERO CR 3': 'N/A', 'NOMBRE TERCERO CR1': 'abc', 'NOMBRE TERCERO CR2': 'N/A', 'NOMBRE TERCERO CR3': 'N/A', 'CC CR 1': '123', 'CC CR 2': 'N/A', 'CC CR 3': 'N/A', 'COMENTARIO': 'prueba', 'TIPO DE DOCUMENTO': 'T90', 'NUMERO DE DOCUMENTO': '123', 'DOCUMENTO BASE': 'as', 'NUMERO DOCUMENTO BASE': '123', 'CUENTA': '20151', 'CAMPO_NUMERICO_1': '40990', 'CAMPO_ALFANUMERICO_2': '73712642BB', 'CAMPO_ALFANUMERICO_3': '41196', 'CAMPO_ALFANUMERICO_4': '2025-03-18', 'CAMPO_ALFANUMERICO_5': '2025-04-18', 'CAMPO_ALFANUMERICO_6': '2025-04-29', 'CAMPO_ALFANUMERICO_7': '6671', 'CAMPO_ALFANUMERICO_8': '91', 'CAMPO_ALFANUMERICO_9': '508', 'CAMPO_ALFANUMERICO_10': '99', 'CAMPO_ALFANUMERICO_11': 'Caja BBB', 'CAMPO_ALFANUMERICO_12': 'BC', 'CAMPO_ALFANUMERICO_13': 'FE', 'CAMPO_ALFANUMERICO_14': '31', 'CAMPO_ALFANUMERICO_15': '9975'}, {'CODIGO TRX': 'AF265', 'DESCRIPCION TRANSACCION': 'DEP EQ ELECTRICOS', 'TIPO CONTABILIDAD': '7115', 'FECHA CONTABLE': '2025-02-19', 'VALOR DB 1': '1000000.02', 'VALOR DB 2': 'N/A', 'VALOR DB 3': 'N/A', 'ID TERCERO DB1': '70', 'ID TERCERO DB2': '71', 'ID TERCERO DB3': 'N/A', 'NOMBRE TERCERO DB1': 'abc', 'NOMBRE TERCERO DB2': 'N/A', 'NOMBRE TERCERO DB3': 'N/A', 'CC DB 1': '123', 'CC DB 2': 'N/A', 'CC DB 3': 'N/A', 'VALOR CR 1': '1000000.02', 'VALOR CR 2': 'N/A', 'VALOR CR 3': 'N/A', 'ID TERCERO CR 1': '80', 'ID TERCERO CR 2': '81', 'ID TERCERO CR 3': 'N/A', 'NOMBRE TERCERO CR1': 'abc', 'NOMBRE TERCERO CR2': 'N/A', 'NOMBRE TERCERO CR3': 'N/A', 'CC CR 1': '123', 'CC CR 2': 'N/A', 'CC CR 3': 'N/A', 'COMENTARIO': 'prueba', 'TIPO DE DOCUMENTO': 'T90', 'NUMERO DE DOCUMENTO': '123', 'DOCUMENTO BASE': 'as', 'NUMERO DOCUMENTO BASE': '123', 'CUENTA': '25334', 'CAMPO_NUMERICO_1': '79891', 'CAMPO_ALFANUMERICO_2': '32682938AA', 'CAMPO_ALFANUMERICO_3': '15612', 'CAMPO_ALFANUMERICO_4': '2025-03-16', 'CAMPO_ALFANUMERICO_5': '2025-04-14', 'CAMPO_ALFANUMERICO_6': '2025-04-22', 'CAMPO_ALFANUMERICO_7': '1656', 'CAMPO_ALFANUMERICO_8': '95', 'CAMPO_ALFANUMERICO_9': '791', 'CAMPO_ALFANUMERICO_10': '89', 'CAMPO_ALFANUMERICO_11': 'Caja AAA', 'CAMPO_ALFANUMERICO_12': 'BC', 'CAMPO_ALFANUMERICO_13': 'GE', 'CAMPO_ALFANUMERICO_14': '94', 'CAMPO_ALFANUMERICO_15': '4271'}]\n",
      "[{'DOCINT': 'AF265', 'DESCRIPCION TRANSACCION': 'DEP EQ ELECTRICOS', 'FORINT': '7115', 'FECINT ': '2025-02-19', 'VALOR DB 1': '1000000.02', 'VALOR DB 2': 'N/A', 'VALOR DB 3': 'N/A', 'ID TERCERO DB1': '70', 'ID TERCERO DB2': '71', 'ID TERCERO DB3': 'N/A', 'NTEINT': 'abc', 'NOMBRE TERCERO DB2': 'N/A', 'NOMBRE TERCERO DB3': 'N/A', 'CC DB 1': '123', 'CC DB 2': 'N/A', 'CC DB 3': 'N/A', 'VALOR CR 1': '1000000.02', 'VALOR CR 2': 'N/A', 'VALOR CR 3': 'N/A', 'TERINT': '80', 'ID TERCERO CR 2': '81', 'ID TERCERO CR 3': 'N/A', 'NOMBRE TERCERO CR1': 'abc', 'NOMBRE TERCERO CR2': 'N/A', 'NOMBRE TERCERO CR3': 'N/A', 'CC CR 1': '123', 'CC CR 2': 'N/A', 'CC CR 3': 'N/A', 'COMINT': 'prueba', 'TIPO DE DOCUMENTO': 'T90', 'NVBINT': '123', 'DBAINT': 'as', 'NBAINT': '123', 'CTAINT': '10962', 'CAMPO_NUMERICO_1': '46150', 'CAMPO_ALFANUMERICO_2': '34956568AA', 'CAMPO_ALFANUMERICO_3': '19264', 'CAMPO_ALFANUMERICO_4': '2025-02-24', 'CAMPO_ALFANUMERICO_5': '2025-04-12', 'CAMPO_ALFANUMERICO_6': '2025-05-15', 'CAMPO_ALFANUMERICO_7': '6832', 'CAMPO_ALFANUMERICO_8': '26', 'CAMPO_ALFANUMERICO_9': '992', 'CAMPO_ALFANUMERICO_10': '34', 'CAMPO_ALFANUMERICO_11': 'Caja AAA', 'CAMPO_ALFANUMERICO_12': 'BC', 'CAMPO_ALFANUMERICO_13': 'FE', 'CAMPO_ALFANUMERICO_14': '84', 'CAMPO_ALFANUMERICO_15': '9275'}]\n"
     ]
    }
   ],
   "source": [
    "ruta_excel = r'C:\\Users\\ASUS\\Documents\\Bancolombia\\POC_java_vs_python\\java_vs_python\\Reglas_OPTIMA - copia.xlsx'\n",
    "ruta_json = r'C:\\Users\\ASUS\\Documents\\Bancolombia\\POC_java_vs_python\\java_vs_python\\json_a_homologar.json'\n",
    "\n",
    "validador = ValidadorCampos(ruta_excel, ruta_json)"
   ]
  },
  {
   "cell_type": "code",
   "execution_count": null,
   "metadata": {},
   "outputs": [],
   "source": []
  },
  {
   "cell_type": "code",
   "execution_count": null,
   "metadata": {},
   "outputs": [],
   "source": []
  },
  {
   "cell_type": "code",
   "execution_count": null,
   "metadata": {},
   "outputs": [],
   "source": []
  },
  {
   "cell_type": "code",
   "execution_count": null,
   "metadata": {},
   "outputs": [],
   "source": []
  },
  {
   "cell_type": "code",
   "execution_count": null,
   "metadata": {},
   "outputs": [],
   "source": []
  },
  {
   "cell_type": "code",
   "execution_count": null,
   "metadata": {},
   "outputs": [],
   "source": []
  },
  {
   "cell_type": "code",
   "execution_count": null,
   "metadata": {},
   "outputs": [],
   "source": []
  },
  {
   "cell_type": "code",
   "execution_count": null,
   "metadata": {},
   "outputs": [],
   "source": []
  },
  {
   "cell_type": "code",
   "execution_count": null,
   "metadata": {},
   "outputs": [],
   "source": []
  },
  {
   "cell_type": "code",
   "execution_count": null,
   "metadata": {},
   "outputs": [],
   "source": []
  },
  {
   "cell_type": "code",
   "execution_count": null,
   "metadata": {},
   "outputs": [],
   "source": []
  },
  {
   "cell_type": "code",
   "execution_count": null,
   "metadata": {},
   "outputs": [],
   "source": []
  },
  {
   "cell_type": "code",
   "execution_count": null,
   "metadata": {},
   "outputs": [],
   "source": []
  },
  {
   "cell_type": "code",
   "execution_count": null,
   "metadata": {},
   "outputs": [],
   "source": []
  },
  {
   "cell_type": "code",
   "execution_count": null,
   "metadata": {},
   "outputs": [],
   "source": []
  },
  {
   "cell_type": "code",
   "execution_count": null,
   "metadata": {},
   "outputs": [],
   "source": []
  },
  {
   "cell_type": "code",
   "execution_count": null,
   "metadata": {},
   "outputs": [],
   "source": []
  },
  {
   "cell_type": "code",
   "execution_count": null,
   "metadata": {},
   "outputs": [],
   "source": []
  },
  {
   "cell_type": "code",
   "execution_count": null,
   "metadata": {},
   "outputs": [],
   "source": []
  },
  {
   "cell_type": "code",
   "execution_count": null,
   "metadata": {},
   "outputs": [],
   "source": []
  },
  {
   "cell_type": "code",
   "execution_count": null,
   "metadata": {},
   "outputs": [],
   "source": []
  },
  {
   "cell_type": "code",
   "execution_count": null,
   "metadata": {},
   "outputs": [],
   "source": []
  },
  {
   "cell_type": "code",
   "execution_count": null,
   "metadata": {},
   "outputs": [],
   "source": []
  },
  {
   "cell_type": "code",
   "execution_count": null,
   "metadata": {},
   "outputs": [],
   "source": []
  },
  {
   "cell_type": "code",
   "execution_count": null,
   "metadata": {},
   "outputs": [],
   "source": []
  },
  {
   "cell_type": "code",
   "execution_count": null,
   "metadata": {},
   "outputs": [],
   "source": []
  },
  {
   "cell_type": "code",
   "execution_count": null,
   "metadata": {},
   "outputs": [],
   "source": []
  },
  {
   "cell_type": "code",
   "execution_count": null,
   "metadata": {},
   "outputs": [],
   "source": []
  },
  {
   "cell_type": "code",
   "execution_count": null,
   "metadata": {},
   "outputs": [],
   "source": []
  },
  {
   "cell_type": "code",
   "execution_count": null,
   "metadata": {},
   "outputs": [],
   "source": []
  },
  {
   "cell_type": "code",
   "execution_count": null,
   "metadata": {},
   "outputs": [],
   "source": []
  },
  {
   "cell_type": "code",
   "execution_count": null,
   "metadata": {},
   "outputs": [],
   "source": []
  },
  {
   "cell_type": "code",
   "execution_count": null,
   "metadata": {},
   "outputs": [],
   "source": []
  },
  {
   "cell_type": "code",
   "execution_count": null,
   "metadata": {},
   "outputs": [],
   "source": []
  },
  {
   "cell_type": "code",
   "execution_count": null,
   "metadata": {},
   "outputs": [],
   "source": []
  },
  {
   "cell_type": "code",
   "execution_count": null,
   "metadata": {},
   "outputs": [],
   "source": []
  },
  {
   "cell_type": "code",
   "execution_count": null,
   "metadata": {},
   "outputs": [],
   "source": []
  },
  {
   "cell_type": "code",
   "execution_count": null,
   "metadata": {},
   "outputs": [],
   "source": []
  }
 ],
 "metadata": {
  "kernelspec": {
   "display_name": "poc_homologador",
   "language": "python",
   "name": "python3"
  },
  "language_info": {
   "codemirror_mode": {
    "name": "ipython",
    "version": 3
   },
   "file_extension": ".py",
   "mimetype": "text/x-python",
   "name": "python",
   "nbconvert_exporter": "python",
   "pygments_lexer": "ipython3",
   "version": "3.10.9"
  }
 },
 "nbformat": 4,
 "nbformat_minor": 2
}
