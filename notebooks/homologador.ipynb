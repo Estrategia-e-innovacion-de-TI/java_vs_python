{
 "cells": [
  {
   "cell_type": "code",
   "execution_count": 30,
   "metadata": {},
   "outputs": [],
   "source": [
    "import pandas as pd\n",
    "import random\n",
    "import os \n",
    "import json\n",
    "import traceback\n",
    "\n",
    "from datetime import datetime"
   ]
  },
  {
   "cell_type": "code",
   "execution_count": 39,
   "metadata": {},
   "outputs": [],
   "source": [
    "class ValidadorCampos:\n",
    "    def __init__(self, ruta_excel, ruta_json, ruta_salida):\n",
    "        self.reglas = {}\n",
    "        self.ruta_excel = ruta_excel\n",
    "        self.ruta_json = ruta_json\n",
    "        self.ruta_salida = ruta_salida        \n",
    "        self.lista_fields_transformados = self.leer_json()        \n",
    "\n",
    "    def cargar_reglas_desde_excel(self):\n",
    "        try:\n",
    "            df = pd.read_excel(self.ruta_excel)\n",
    "            df.columns = df.columns.str.upper()\n",
    "            \n",
    "            for columna in df.select_dtypes(include='object').columns:\n",
    "                df[columna] = df[columna].str.upper()\n",
    "            \n",
    "            columnas_requeridas = [\"BB\", \"CAMPO DESTINO\", \"TIPO\", \"LONGITUD\"]\n",
    "            for columna in columnas_requeridas:\n",
    "                if columna not in df.columns:\n",
    "                    raise ValueError(f\"La columna '{columna}' no existe en el archivo Excel\")\n",
    "            \n",
    "            for _, fila in df.iterrows():\n",
    "                nombre_campo = fila[\"BB\"]\n",
    "                codigo = fila[\"CAMPO DESTINO\"]\n",
    "                tipo = fila[\"TIPO\"]\n",
    "                \n",
    "                longitud = fila[\"LONGITUD\"]\n",
    "                if pd.isna(longitud):\n",
    "                    longitud = 0\n",
    "                else:\n",
    "                    longitud = int(longitud)\n",
    "\n",
    "                self.reglas[nombre_campo] = {\n",
    "                    'codigo': codigo,\n",
    "                    'tipo': tipo,\n",
    "                    'longitud': longitud\n",
    "                }\n",
    "            \n",
    "            print(f\"Se cargaron {len(self.reglas)} reglas desde el archivo Excel\")            \n",
    "        except Exception as e:\n",
    "            print(f\"Error al cargar las reglas desde Excel: {e}\")\n",
    "            raise\n",
    "\n",
    "    def leer_json(self):\n",
    "        try:\n",
    "            with open(self.ruta_json, 'r', encoding='utf-8') as f:\n",
    "                datos = json.load(f)\n",
    "                transactions = datos.get(\"body\", {}).get(\"transactions\", [])\n",
    "                lista_fields_transformados = []\n",
    "                \n",
    "                for transaccion in transactions:\n",
    "                    if \"fields\" in transaccion:\n",
    "                        nuevo_fields = {}\n",
    "\n",
    "                        for campo, valor in transaccion[\"fields\"].items():\n",
    "                            regla = self.reglas.get(campo, None)\n",
    "                            \n",
    "                            if not regla:\n",
    "                                nuevo_fields[campo] = valor\n",
    "                                continue  \n",
    "                            \n",
    "                            codigo = regla.get(\"codigo\", campo)\n",
    "                            tipo = regla.get(\"tipo\", \"CARACTER\")  \n",
    "                            longitud = regla.get(\"longitud\", 0)\n",
    "\n",
    "                            valor = str(valor).strip()\n",
    "                            \n",
    "                            if tipo in [\"FECINT\", \"DATETIME\"]:\n",
    "                                try:\n",
    "                                    fecha = datetime.strptime(valor, \"%Y-%m-%d\")\n",
    "                                    valor = fecha.strftime(\"%Y%m%d\")\n",
    "                                except ValueError:\n",
    "                                    print(f\"⚠️ Advertencia: Formato de fecha inválido en {campo}: {valor}\")\n",
    "                            \n",
    "                            if tipo == \"NUMERICO\":\n",
    "                                valor = valor.ljust(longitud, '0')[:longitud]  \n",
    "                            else:  \n",
    "                                valor = valor.rjust(longitud, '0')[:longitud]  \n",
    "\n",
    "                            nuevo_fields[codigo] = valor\n",
    "                        \n",
    "                        lista_fields_transformados.append(nuevo_fields)\n",
    "                \n",
    "                return lista_fields_transformados\n",
    "        except Exception as e:\n",
    "            print(f\"Error al leer o transformar el JSON:\\n{traceback.format_exc()}\")\n",
    "\n",
    "    def generar_archivo_txt(self):\n",
    "        \"\"\"Genera un archivo .txt con los datos transformados en formato tabla\"\"\"\n",
    "        try:\n",
    "            if not self.lista_fields_transformados:\n",
    "                print(\"No hay datos transformados para exportar.\")\n",
    "                return            \n",
    "            \n",
    "            columnas = list(self.lista_fields_transformados[0].keys())\n",
    "            \n",
    "            ancho_columnas = {col: max(len(col), 15) for col in columnas}  \n",
    "            for fila in self.lista_fields_transformados:\n",
    "                for col, val in fila.items():\n",
    "                    ancho_columnas[col] = max(ancho_columnas[col], len(str(val)))\n",
    "            \n",
    "            encabezado = \" \".join(col.ljust(ancho_columnas[col]) for col in columnas)\n",
    "            \n",
    "            filas = []\n",
    "            for fila in self.lista_fields_transformados:\n",
    "                valores = [str(fila[col]).ljust(ancho_columnas[col]) for col in columnas]\n",
    "                filas.append(\" \".join(valores))\n",
    "            \n",
    "            with open(self.ruta_salida, \"w\", encoding=\"utf-8\") as f:\n",
    "                f.write(encabezado + \"\\n\")\n",
    "                f.write(\"\\n\".join(filas) + \"\\n\")\n",
    "\n",
    "            print(f\"Archivo guardado en {self.ruta_salida}\")\n",
    "\n",
    "        except Exception as e:\n",
    "            print(f\"Error al generar el archivo TXT:\\n{traceback.format_exc()}\")"
   ]
  },
  {
   "cell_type": "code",
   "execution_count": 40,
   "metadata": {},
   "outputs": [
    {
     "name": "stdout",
     "output_type": "stream",
     "text": [
      "Se cargaron 29 reglas desde el archivo Excel\n",
      "Archivo guardado en ./outputs/output_1175.txt\n"
     ]
    }
   ],
   "source": [
    "random_int = random.randint(1, 10000)\n",
    "\n",
    "ruta_excel = \"./data/Reglas OPTIMA.xlsx\"\n",
    "ruta_json = \"./data/json_a_homologar.json\"\n",
    "ruta_salida = f\"./outputs/output_{random_int}.txt\"\n",
    "if not os.path.exists(ruta_salida):  \n",
    "    random_int = random.randint(1, 10000)\n",
    "    ruta_salida = f\"./outputs/output_{random_int}.txt\"\n",
    "\n",
    "validador = ValidadorCampos(ruta_excel, ruta_json, ruta_salida)\n",
    "validador.cargar_reglas_desde_excel()\n",
    "validador.generar_archivo_txt()"
   ]
  },
  {
   "cell_type": "code",
   "execution_count": null,
   "metadata": {},
   "outputs": [],
   "source": []
  },
  {
   "cell_type": "markdown",
   "metadata": {},
   "source": []
  },
  {
   "cell_type": "code",
   "execution_count": null,
   "metadata": {},
   "outputs": [],
   "source": []
  },
  {
   "cell_type": "code",
   "execution_count": null,
   "metadata": {},
   "outputs": [],
   "source": []
  },
  {
   "cell_type": "code",
   "execution_count": null,
   "metadata": {},
   "outputs": [],
   "source": []
  },
  {
   "cell_type": "code",
   "execution_count": null,
   "metadata": {},
   "outputs": [],
   "source": []
  },
  {
   "cell_type": "code",
   "execution_count": null,
   "metadata": {},
   "outputs": [],
   "source": []
  },
  {
   "cell_type": "code",
   "execution_count": null,
   "metadata": {},
   "outputs": [],
   "source": []
  },
  {
   "cell_type": "code",
   "execution_count": null,
   "metadata": {},
   "outputs": [],
   "source": []
  },
  {
   "cell_type": "code",
   "execution_count": null,
   "metadata": {},
   "outputs": [],
   "source": []
  },
  {
   "cell_type": "code",
   "execution_count": null,
   "metadata": {},
   "outputs": [],
   "source": []
  },
  {
   "cell_type": "code",
   "execution_count": null,
   "metadata": {},
   "outputs": [],
   "source": []
  },
  {
   "cell_type": "code",
   "execution_count": null,
   "metadata": {},
   "outputs": [],
   "source": []
  },
  {
   "cell_type": "code",
   "execution_count": null,
   "metadata": {},
   "outputs": [],
   "source": []
  },
  {
   "cell_type": "code",
   "execution_count": null,
   "metadata": {},
   "outputs": [],
   "source": []
  },
  {
   "cell_type": "code",
   "execution_count": null,
   "metadata": {},
   "outputs": [],
   "source": []
  },
  {
   "cell_type": "code",
   "execution_count": null,
   "metadata": {},
   "outputs": [],
   "source": []
  },
  {
   "cell_type": "code",
   "execution_count": null,
   "metadata": {},
   "outputs": [],
   "source": []
  },
  {
   "cell_type": "code",
   "execution_count": null,
   "metadata": {},
   "outputs": [],
   "source": []
  },
  {
   "cell_type": "code",
   "execution_count": null,
   "metadata": {},
   "outputs": [],
   "source": []
  },
  {
   "cell_type": "code",
   "execution_count": null,
   "metadata": {},
   "outputs": [],
   "source": []
  },
  {
   "cell_type": "code",
   "execution_count": null,
   "metadata": {},
   "outputs": [],
   "source": []
  },
  {
   "cell_type": "code",
   "execution_count": null,
   "metadata": {},
   "outputs": [],
   "source": []
  },
  {
   "cell_type": "code",
   "execution_count": null,
   "metadata": {},
   "outputs": [],
   "source": []
  },
  {
   "cell_type": "code",
   "execution_count": null,
   "metadata": {},
   "outputs": [],
   "source": []
  },
  {
   "cell_type": "code",
   "execution_count": null,
   "metadata": {},
   "outputs": [],
   "source": []
  },
  {
   "cell_type": "code",
   "execution_count": null,
   "metadata": {},
   "outputs": [],
   "source": []
  },
  {
   "cell_type": "code",
   "execution_count": null,
   "metadata": {},
   "outputs": [],
   "source": []
  },
  {
   "cell_type": "code",
   "execution_count": null,
   "metadata": {},
   "outputs": [],
   "source": []
  },
  {
   "cell_type": "code",
   "execution_count": null,
   "metadata": {},
   "outputs": [],
   "source": []
  },
  {
   "cell_type": "code",
   "execution_count": null,
   "metadata": {},
   "outputs": [],
   "source": []
  },
  {
   "cell_type": "code",
   "execution_count": null,
   "metadata": {},
   "outputs": [],
   "source": []
  },
  {
   "cell_type": "code",
   "execution_count": null,
   "metadata": {},
   "outputs": [],
   "source": []
  },
  {
   "cell_type": "code",
   "execution_count": null,
   "metadata": {},
   "outputs": [],
   "source": []
  },
  {
   "cell_type": "code",
   "execution_count": null,
   "metadata": {},
   "outputs": [],
   "source": []
  },
  {
   "cell_type": "code",
   "execution_count": null,
   "metadata": {},
   "outputs": [],
   "source": []
  },
  {
   "cell_type": "code",
   "execution_count": null,
   "metadata": {},
   "outputs": [],
   "source": []
  },
  {
   "cell_type": "code",
   "execution_count": null,
   "metadata": {},
   "outputs": [],
   "source": []
  }
 ],
 "metadata": {
  "kernelspec": {
   "display_name": "poc-java-python",
   "language": "python",
   "name": "python3"
  },
  "language_info": {
   "codemirror_mode": {
    "name": "ipython",
    "version": 3
   },
   "file_extension": ".py",
   "mimetype": "text/x-python",
   "name": "python",
   "nbconvert_exporter": "python",
   "pygments_lexer": "ipython3",
   "version": "3.12.6"
  }
 },
 "nbformat": 4,
 "nbformat_minor": 2
}
